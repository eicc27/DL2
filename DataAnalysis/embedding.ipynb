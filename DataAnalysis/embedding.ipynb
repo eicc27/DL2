{
 "cells": [
  {
   "cell_type": "code",
   "execution_count": 31,
   "metadata": {},
   "outputs": [
    {
     "data": {
      "text/plain": [
       "device(type='cuda')"
      ]
     },
     "execution_count": 31,
     "metadata": {},
     "output_type": "execute_result"
    }
   ],
   "source": [
    "import numpy as np\n",
    "import torch\n",
    "from transformers import RobertaTokenizer, RobertaModel\n",
    "\n",
    "device = torch.device('cuda' if torch.cuda.is_available() else 'cpu')\n",
    "device"
   ]
  },
  {
   "cell_type": "code",
   "execution_count": 32,
   "metadata": {},
   "outputs": [
    {
     "data": {
      "text/plain": [
       "RobertaModel(\n",
       "  (embeddings): RobertaEmbeddings(\n",
       "    (word_embeddings): Embedding(50265, 768, padding_idx=1)\n",
       "    (position_embeddings): Embedding(514, 768, padding_idx=1)\n",
       "    (token_type_embeddings): Embedding(1, 768)\n",
       "    (LayerNorm): LayerNorm((768,), eps=1e-05, elementwise_affine=True)\n",
       "    (dropout): Dropout(p=0.1, inplace=False)\n",
       "  )\n",
       "  (encoder): RobertaEncoder(\n",
       "    (layer): ModuleList(\n",
       "      (0-11): 12 x RobertaLayer(\n",
       "        (attention): RobertaAttention(\n",
       "          (self): RobertaSelfAttention(\n",
       "            (query): Linear(in_features=768, out_features=768, bias=True)\n",
       "            (key): Linear(in_features=768, out_features=768, bias=True)\n",
       "            (value): Linear(in_features=768, out_features=768, bias=True)\n",
       "            (dropout): Dropout(p=0.1, inplace=False)\n",
       "          )\n",
       "          (output): RobertaSelfOutput(\n",
       "            (dense): Linear(in_features=768, out_features=768, bias=True)\n",
       "            (LayerNorm): LayerNorm((768,), eps=1e-05, elementwise_affine=True)\n",
       "            (dropout): Dropout(p=0.1, inplace=False)\n",
       "          )\n",
       "        )\n",
       "        (intermediate): RobertaIntermediate(\n",
       "          (dense): Linear(in_features=768, out_features=3072, bias=True)\n",
       "          (intermediate_act_fn): GELUActivation()\n",
       "        )\n",
       "        (output): RobertaOutput(\n",
       "          (dense): Linear(in_features=3072, out_features=768, bias=True)\n",
       "          (LayerNorm): LayerNorm((768,), eps=1e-05, elementwise_affine=True)\n",
       "          (dropout): Dropout(p=0.1, inplace=False)\n",
       "        )\n",
       "      )\n",
       "    )\n",
       "  )\n",
       "  (pooler): RobertaPooler(\n",
       "    (dense): Linear(in_features=768, out_features=768, bias=True)\n",
       "    (activation): Tanh()\n",
       "  )\n",
       ")"
      ]
     },
     "execution_count": 32,
     "metadata": {},
     "output_type": "execute_result"
    }
   ],
   "source": [
    "tokenizer: RobertaTokenizer = RobertaTokenizer.from_pretrained('./cache')\n",
    "model: RobertaModel = RobertaModel.from_pretrained('./cache').to(device)\n",
    "model"
   ]
  },
  {
   "cell_type": "code",
   "execution_count": 33,
   "metadata": {},
   "outputs": [
    {
     "data": {
      "text/plain": [
       "(768,)"
      ]
     },
     "execution_count": 33,
     "metadata": {},
     "output_type": "execute_result"
    }
   ],
   "source": [
    "def embed_text(text: str) -> np.ndarray:\n",
    "    inputs = tokenizer(text=text, return_tensors='pt',\n",
    "                       truncation=True, max_length=512).to(device)\n",
    "    with torch.no_grad():\n",
    "        outputs = model(**inputs)\n",
    "    return outputs.last_hidden_state[0].mean(dim=0).cpu().numpy()\n",
    "embed_text('Hello, my dog is cute').shape"
   ]
  },
  {
   "cell_type": "code",
   "execution_count": 38,
   "metadata": {},
   "outputs": [
    {
     "name": "stdout",
     "output_type": "stream",
     "text": [
      "Node properties are the following:\n",
      "Paper {title: STRING, abs: STRING, arxivId: STRING, citedNum: INTEGER},Author {name: STRING},Code {url: STRING, rating: INTEGER},Method {desc: STRING, name: STRING},Task {desc: STRING, name: STRING}\n",
      "Relationship properties are the following:\n",
      "\n",
      "The relationships are the following:\n",
      "(:Paper)-[:APPLIES]->(:Method),(:Paper)-[:PERFORMS]->(:Task),(:Paper)-[:PROPOSES]->(:Method),(:Paper)-[:CITES]->(:Paper),(:Author)-[:WRITES]->(:Paper)\n"
     ]
    }
   ],
   "source": [
    "import llama_index.graph_stores\n",
    "import llama_index.graph_stores.neo4j\n",
    "gs = llama_index.graph_stores.neo4j.Neo4jGraphStore(url='bolt://localhost:7687', \n",
    "                                                    username='neo4j',\n",
    "                                                    password='030108chen')\n",
    "print(gs.get_schema(\"Paper\"))"
   ]
  },
  {
   "cell_type": "code",
   "execution_count": 41,
   "metadata": {},
   "outputs": [
    {
     "data": {
      "text/plain": [
       "(768,)"
      ]
     },
     "execution_count": 41,
     "metadata": {},
     "output_type": "execute_result"
    }
   ],
   "source": [
    "def embed_paper(arxiv_id: str) -> np.ndarray:\n",
    "    result = gs.query(\"MATCH (p:Paper) WHERE p.arxivId = $arxiv_id RETURN p\",\n",
    "                      {\n",
    "                          'arxiv_id': arxiv_id\n",
    "                      })\n",
    "    if len(result) == 0:\n",
    "        raise ValueError(f'Paper {arxiv_id} not found')\n",
    "    paper = result[0]['p']\n",
    "    title, abstract = paper['title'], paper['abs']\n",
    "    text = title + ' ' + abstract\n",
    "    return embed_text(text.replace('\\n', ' ').strip())\n",
    "\n",
    "\n",
    "embed_paper(\"1706.03762\").shape"
   ]
  },
  {
   "cell_type": "code",
   "execution_count": 43,
   "metadata": {},
   "outputs": [
    {
     "data": {
      "text/plain": [
       "(768,)"
      ]
     },
     "execution_count": 43,
     "metadata": {},
     "output_type": "execute_result"
    }
   ],
   "source": [
    "from typing import Literal\n",
    "\n",
    "\n",
    "def embed_task_or_method(name: str, type: Literal['task', 'method'] | None = None) -> np.ndarray:\n",
    "    result = gs.query(f\"MATCH (n:{type.capitalize()}) WHERE n.name = $name RETURN n\" if type else\n",
    "                      \"MATCH (n) WHERE n.name = $name RETURN n\",\n",
    "                      {\n",
    "        'name': name\n",
    "    })\n",
    "    if len(result) == 0:\n",
    "        raise ValueError(f'{type.capitalize()} {name} not found')\n",
    "    node = result[0]['n']\n",
    "    name, desc = node['name'], node['desc']\n",
    "    text = name + ' ' + desc\n",
    "    return embed_text(text.replace('\\n', ' ').strip())\n",
    "\n",
    "embed_task_or_method('Text-To-Speech Synthesis').shape"
   ]
  },
  {
   "cell_type": "code",
   "execution_count": null,
   "metadata": {},
   "outputs": [],
   "source": []
  }
 ],
 "metadata": {
  "kernelspec": {
   "display_name": "venv",
   "language": "python",
   "name": "python3"
  },
  "language_info": {
   "codemirror_mode": {
    "name": "ipython",
    "version": 3
   },
   "file_extension": ".py",
   "mimetype": "text/x-python",
   "name": "python",
   "nbconvert_exporter": "python",
   "pygments_lexer": "ipython3",
   "version": "3.12.3"
  }
 },
 "nbformat": 4,
 "nbformat_minor": 2
}
