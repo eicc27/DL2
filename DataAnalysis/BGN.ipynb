{
  "cells": [
    {
      "cell_type": "code",
      "execution_count": null,
      "metadata": {
        "id": "jQ1uJhpNLheM",
        "colab": {
          "base_uri": "https://localhost:8080/"
        },
        "outputId": "561d47fa-c241-4726-f281-1d0af38b8c05"
      },
      "outputs": [
        {
          "output_type": "stream",
          "name": "stdout",
          "text": [
            "Mounted at /content/drive\n",
            "/content/drive/MyDrive\n"
          ]
        }
      ],
      "source": [
        "from google.colab import drive\n",
        "drive.mount('/content/drive')\n",
        "%cd /content/drive/MyDrive"
      ]
    },
    {
      "cell_type": "code",
      "execution_count": null,
      "metadata": {
        "id": "A2nB8E_VMvSi"
      },
      "outputs": [],
      "source": [
        "%pip install torch_geometric\n",
        "%pip install transformers"
      ]
    },
    {
      "cell_type": "code",
      "execution_count": null,
      "metadata": {
        "id": "yeg60MobLmAQ",
        "colab": {
          "base_uri": "https://localhost:8080/"
        },
        "outputId": "9fcb8d06-447b-4cf7-e3c3-e9a73c826ab8"
      },
      "outputs": [
        {
          "output_type": "stream",
          "name": "stderr",
          "text": [
            "100%|██████████| 930/930 [00:31<00:00, 29.81it/s] \n"
          ]
        }
      ],
      "source": [
        "import torch\n",
        "from torch_geometric.data import Data, DataLoader\n",
        "from torch_geometric.nn import GCNConv\n",
        "import torch.nn.functional as F\n",
        "from transformers import DebertaModel, DebertaTokenizer\n",
        "import json\n",
        "from tqdm import tqdm\n",
        "import os\n",
        "import csv\n",
        "import numpy as np\n",
        "\n",
        "device = torch.device('cuda' if torch.cuda.is_available() else 'cpu')\n",
        "\n",
        "task_map = {}\n",
        "\n",
        "with open('task.csv') as csvfile:\n",
        "    spamreader = csv.reader(csvfile, delimiter=',')\n",
        "    for i, row in enumerate(spamreader):\n",
        "        if i:\n",
        "            task_map[row[1]] = len(task_map)\n",
        "\n",
        "arxiv_map = {}\n",
        "ground_truth = []\n",
        "\n",
        "path = \"Data\"\n",
        "\n",
        "tokenizer = DebertaTokenizer.from_pretrained('microsoft/deberta-base')\n",
        "model_bert = DebertaModel.from_pretrained('microsoft/deberta-base').to(device)\n",
        "\n",
        "vectors = []\n",
        "labels = []\n",
        "\n",
        "for f in tqdm(os.listdir(path)):\n",
        "    p = path + '/' + f\n",
        "    with open(p, 'r', encoding='utf-8') as subFiles:\n",
        "        subFiles = json.load(subFiles)\n",
        "        label = [0 for _ in range(len(task_map))]\n",
        "        flag = 0\n",
        "        for i in subFiles['tasks']:\n",
        "            if i['name'] in task_map:\n",
        "                flag = 1\n",
        "                label[task_map[i['name']]] = 1\n",
        "        if flag:\n",
        "            labels.append(label)\n",
        "            arxiv_map[subFiles['id']] = len(arxiv_map)\n",
        "            inputs = tokenizer(subFiles['abstract'].replace(\"\\n\", \" \").strip(\" \"), return_tensors='pt', max_length=512, truncation=True).to(device)\n",
        "            with torch.no_grad():\n",
        "                outputs = model_bert(**inputs)\n",
        "            vectors.append(outputs.last_hidden_state[0].mean(dim=0).cpu().numpy())\n",
        "\n",
        "vectors = np.vstack(vectors)\n",
        "\n",
        "\n",
        "with open('graph.json', 'r') as graph_file:\n",
        "  graph_file = json.load(graph_file)\n",
        "  edge_from = []\n",
        "  edge_to = []\n",
        "  for a, b in graph_file:\n",
        "    if a in arxiv_map and b in arxiv_map:\n",
        "      edge_from.append(arxiv_map[a])\n",
        "      edge_to.append(arxiv_map[b])\n",
        "\n",
        "edges = [edge_from, edge_to]\n",
        "\n",
        "\n",
        "data = Data(x=torch.tensor(vectors), y=torch.tensor(labels, dtype=float), edge_index=torch.LongTensor(edges))\n",
        "\n",
        "num_nodes = data.num_nodes\n",
        "train_size = int(0.8 * num_nodes)\n",
        "val_size = int(0.1 * num_nodes)\n",
        "\n",
        "perm = torch.randperm(num_nodes)\n",
        "\n",
        "data.train_mask = torch.zeros(num_nodes, dtype=bool)\n",
        "data.val_mask = torch.zeros(num_nodes, dtype=bool)\n",
        "data.test_mask = torch.zeros(num_nodes, dtype=bool)\n",
        "\n",
        "data.train_mask[perm[:train_size]] = True\n",
        "data.val_mask[perm[train_size:train_size+val_size]] = True\n",
        "data.test_mask[perm[train_size+val_size:]] = True\n",
        "\n",
        "\n"
      ]
    },
    {
      "cell_type": "code",
      "execution_count": null,
      "metadata": {
        "id": "rCusZlalM98j",
        "colab": {
          "base_uri": "https://localhost:8080/",
          "height": 466
        },
        "outputId": "26274609-ff93-4d74-acba-d45f155d3d05"
      },
      "outputs": [
        {
          "output_type": "stream",
          "name": "stderr",
          "text": [
            "100%|██████████| 1000/1000 [00:07<00:00, 127.42it/s]\n"
          ]
        },
        {
          "output_type": "display_data",
          "data": {
            "text/plain": [
              "<Figure size 640x480 with 1 Axes>"
            ],
            "image/png": "[encoded data removed]"
          },
          "metadata": {}
        },
        {
          "output_type": "stream",
          "name": "stdout",
          "text": [
            "0.21098039215686276 0.05798319327731093 0.17431372549019608\n"
          ]
        }
      ],
      "source": [
        "from sklearn.metrics import f1_score, hamming_loss, jaccard_score\n",
        "\n",
        "\n",
        "\n",
        "class Net(torch.nn.Module):\n",
        "    def __init__(self, num_features, num_classes):\n",
        "        super(Net, self).__init__()\n",
        "        self.conv1 = GCNConv(num_features, 200)\n",
        "        self.conv2 = GCNConv(200, num_classes)\n",
        "\n",
        "    def forward(self, data):\n",
        "        x, edge_index = data.x, data.edge_index\n",
        "\n",
        "        x = self.conv1(x, edge_index)\n",
        "        x = F.relu(x)\n",
        "        x = F.dropout(x, training=self.training)\n",
        "        x = self.conv2(x, edge_index)\n",
        "\n",
        "        return x\n",
        "\n",
        "\n",
        "num_features = vectors.shape[1]\n",
        "num_classes = len(task_map)\n",
        "model = Net(num_features, num_classes).to(device)\n",
        "criterion = torch.nn.BCEWithLogitsLoss()\n",
        "optimizer = torch.optim.Adam(model.parameters(), lr=0.01, weight_decay=5e-4)\n",
        "\n",
        "data = data.to(device)\n",
        "data.y = data.y.float()\n",
        "train_loss = []\n",
        "val_loss = []\n",
        "for epoch in tqdm(range(1000)):\n",
        "  model.train()\n",
        "  optimizer.zero_grad()\n",
        "  out = model(data)\n",
        "  loss = criterion(out[data.train_mask], data.y[data.train_mask])\n",
        "  loss.backward()\n",
        "  optimizer.step()\n",
        "  train_loss.append(loss.detach().item())\n",
        "  model.eval()\n",
        "  out = model(data)\n",
        "  loss = criterion(out[data.val_mask], data.y[data.val_mask])\n",
        "  val_loss.append(loss.detach().item())\n",
        "\n",
        "model.eval()\n",
        "out = model(data)\n",
        "predicted = torch.greater(out[data.test_mask], 0.5).cpu()\n",
        "truth = data.y[data.test_mask].cpu()\n",
        "\n",
        "f1 = f1_score(predicted, truth, average='samples')\n",
        "hamming = hamming_loss(predicted, truth)\n",
        "jaccard = jaccard_score(predicted, truth, average='samples')\n",
        "\n",
        "import matplotlib.pyplot as plt\n",
        "\n",
        "plt.figure()\n",
        "plt.plot(train_loss, label='train')\n",
        "plt.plot(val_loss, label='val')\n",
        "plt.legend()\n",
        "plt.show()\n",
        "\n",
        "print(f1, hamming, jaccard)\n",
        "\n",
        "\n",
        "\n",
        "torch.save(model, 'BGCN.pt')"
      ]
    }
  ],
  "metadata": {
    "colab": {
      "provenance": [],
      "gpuType": "T4"
    },
    "kernelspec": {
      "display_name": "Python 3",
      "name": "python3"
    },
    "language_info": {
      "name": "python"
    },
    "accelerator": "GPU"
  },
  "nbformat": 4,
  "nbformat_minor": 0
}