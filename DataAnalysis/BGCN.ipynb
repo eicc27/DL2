{
  "cells": [
    {
      "cell_type": "code",
      "execution_count": 6,
      "metadata": {
        "colab": {
          "base_uri": "https://localhost:8080/"
        },
        "id": "jQ1uJhpNLheM",
        "outputId": "7a3a75eb-3540-4858-d1a7-b9cb15bfc715"
      },
      "outputs": [
        {
          "name": "stdout",
          "output_type": "stream",
          "text": [
            "Drive already mounted at /content/drive; to attempt to forcibly remount, call drive.mount(\"/content/drive\", force_remount=True).\n",
            "/content/drive/MyDrive\n"
          ]
        }
      ],
      "source": [
        "from google.colab import drive\n",
        "drive.mount('/content/drive')\n",
        "%cd /content/drive/MyDrive"
      ]
    },
    {
      "cell_type": "code",
      "execution_count": 7,
      "metadata": {
        "colab": {
          "base_uri": "https://localhost:8080/"
        },
        "id": "A2nB8E_VMvSi",
        "outputId": "28c187a1-7a66-4013-a51b-80fd48e47343"
      },
      "outputs": [
        {
          "name": "stdout",
          "output_type": "stream",
          "text": [
            "Requirement already satisfied: torch_geometric in /usr/local/lib/python3.10/dist-packages (2.3.1)\n",
            "Requirement already satisfied: tqdm in /usr/local/lib/python3.10/dist-packages (from torch_geometric) (4.65.0)\n",
            "Requirement already satisfied: numpy in /usr/local/lib/python3.10/dist-packages (from torch_geometric) (1.22.4)\n",
            "Requirement already satisfied: scipy in /usr/local/lib/python3.10/dist-packages (from torch_geometric) (1.10.1)\n",
            "Requirement already satisfied: jinja2 in /usr/local/lib/python3.10/dist-packages (from torch_geometric) (3.1.2)\n",
            "Requirement already satisfied: requests in /usr/local/lib/python3.10/dist-packages (from torch_geometric) (2.27.1)\n",
            "Requirement already satisfied: pyparsing in /usr/local/lib/python3.10/dist-packages (from torch_geometric) (3.1.0)\n",
            "Requirement already satisfied: scikit-learn in /usr/local/lib/python3.10/dist-packages (from torch_geometric) (1.2.2)\n",
            "Requirement already satisfied: psutil>=5.8.0 in /usr/local/lib/python3.10/dist-packages (from torch_geometric) (5.9.5)\n",
            "Requirement already satisfied: MarkupSafe>=2.0 in /usr/local/lib/python3.10/dist-packages (from jinja2->torch_geometric) (2.1.3)\n",
            "Requirement already satisfied: urllib3<1.27,>=1.21.1 in /usr/local/lib/python3.10/dist-packages (from requests->torch_geometric) (1.26.16)\n",
            "Requirement already satisfied: certifi>=2017.4.17 in /usr/local/lib/python3.10/dist-packages (from requests->torch_geometric) (2023.5.7)\n",
            "Requirement already satisfied: charset-normalizer~=2.0.0 in /usr/local/lib/python3.10/dist-packages (from requests->torch_geometric) (2.0.12)\n",
            "Requirement already satisfied: idna<4,>=2.5 in /usr/local/lib/python3.10/dist-packages (from requests->torch_geometric) (3.4)\n",
            "Requirement already satisfied: joblib>=1.1.1 in /usr/local/lib/python3.10/dist-packages (from scikit-learn->torch_geometric) (1.3.1)\n",
            "Requirement already satisfied: threadpoolctl>=2.0.0 in /usr/local/lib/python3.10/dist-packages (from scikit-learn->torch_geometric) (3.1.0)\n",
            "Requirement already satisfied: transformers in /usr/local/lib/python3.10/dist-packages (4.31.0)\n",
            "Requirement already satisfied: filelock in /usr/local/lib/python3.10/dist-packages (from transformers) (3.12.2)\n",
            "Requirement already satisfied: huggingface-hub<1.0,>=0.14.1 in /usr/local/lib/python3.10/dist-packages (from transformers) (0.16.4)\n",
            "Requirement already satisfied: numpy>=1.17 in /usr/local/lib/python3.10/dist-packages (from transformers) (1.22.4)\n",
            "Requirement already satisfied: packaging>=20.0 in /usr/local/lib/python3.10/dist-packages (from transformers) (23.1)\n",
            "Requirement already satisfied: pyyaml>=5.1 in /usr/local/lib/python3.10/dist-packages (from transformers) (6.0)\n",
            "Requirement already satisfied: regex!=2019.12.17 in /usr/local/lib/python3.10/dist-packages (from transformers) (2022.10.31)\n",
            "Requirement already satisfied: requests in /usr/local/lib/python3.10/dist-packages (from transformers) (2.27.1)\n",
            "Requirement already satisfied: tokenizers!=0.11.3,<0.14,>=0.11.1 in /usr/local/lib/python3.10/dist-packages (from transformers) (0.13.3)\n",
            "Requirement already satisfied: safetensors>=0.3.1 in /usr/local/lib/python3.10/dist-packages (from transformers) (0.3.1)\n",
            "Requirement already satisfied: tqdm>=4.27 in /usr/local/lib/python3.10/dist-packages (from transformers) (4.65.0)\n",
            "Requirement already satisfied: fsspec in /usr/local/lib/python3.10/dist-packages (from huggingface-hub<1.0,>=0.14.1->transformers) (2023.6.0)\n",
            "Requirement already satisfied: typing-extensions>=3.7.4.3 in /usr/local/lib/python3.10/dist-packages (from huggingface-hub<1.0,>=0.14.1->transformers) (4.7.1)\n",
            "Requirement already satisfied: urllib3<1.27,>=1.21.1 in /usr/local/lib/python3.10/dist-packages (from requests->transformers) (1.26.16)\n",
            "Requirement already satisfied: certifi>=2017.4.17 in /usr/local/lib/python3.10/dist-packages (from requests->transformers) (2023.5.7)\n",
            "Requirement already satisfied: charset-normalizer~=2.0.0 in /usr/local/lib/python3.10/dist-packages (from requests->transformers) (2.0.12)\n",
            "Requirement already satisfied: idna<4,>=2.5 in /usr/local/lib/python3.10/dist-packages (from requests->transformers) (3.4)\n"
          ]
        }
      ],
      "source": [
        "%pip install torch_geometric\n",
        "%pip install transformers"
      ]
    },
    {
      "cell_type": "code",
      "execution_count": 8,
      "metadata": {
        "colab": {
          "base_uri": "https://localhost:8080/"
        },
        "id": "yeg60MobLmAQ",
        "outputId": "f9dc8a67-e257-4f2f-da7c-4787c0a76f9d"
      },
      "outputs": [
        {
          "name": "stderr",
          "output_type": "stream",
          "text": [
            "100%|██████████| 930/930 [00:51<00:00, 17.97it/s] \n"
          ]
        }
      ],
      "source": [
        "import torch\n",
        "from torch_geometric.data import Data, DataLoader\n",
        "from torch_geometric.nn import GCNConv\n",
        "import torch.nn.functional as F\n",
        "from transformers import DebertaModel, DebertaTokenizer\n",
        "import json\n",
        "from tqdm import tqdm\n",
        "import os\n",
        "import csv\n",
        "import numpy as np\n",
        "\n",
        "device = torch.device('cuda' if torch.cuda.is_available() else 'cpu')\n",
        "\n",
        "task_map = {}\n",
        "task_list = []\n",
        "\n",
        "with open('task.csv') as csvfile:\n",
        "    spamreader = csv.reader(csvfile, delimiter=',')\n",
        "    for i, row in enumerate(spamreader):\n",
        "        if i:\n",
        "            task_map[row[1]] = len(task_map)\n",
        "            task_list.append(row[1])\n",
        "\n",
        "arxiv_map = {}\n",
        "ground_truth = []\n",
        "\n",
        "path = \"Data\"\n",
        "\n",
        "tokenizer = DebertaTokenizer.from_pretrained('Tokenizer')\n",
        "model_bert = DebertaModel.from_pretrained('Encoder').to(device)\n",
        "\n",
        "vectors = []\n",
        "labels = []\n",
        "\n",
        "for f in tqdm(os.listdir(path)):\n",
        "    p = path + '/' + f\n",
        "    with open(p, 'r', encoding='utf-8') as subFiles:\n",
        "        subFiles = json.load(subFiles)\n",
        "        label = [0 for _ in range(len(task_map))]\n",
        "        flag = 0\n",
        "        for i in subFiles['tasks']:\n",
        "            if i['name'] in task_map:\n",
        "                flag = 1\n",
        "                label[task_map[i['name']]] = 1\n",
        "        if flag:\n",
        "            labels.append(label)\n",
        "            arxiv_map[subFiles['id']] = len(arxiv_map)\n",
        "            inputs = tokenizer(subFiles['abstract'].replace(\"\\n\", \" \").strip(\" \"), return_tensors='pt', max_length=512, truncation=True).to(device)\n",
        "            with torch.no_grad():\n",
        "                outputs = model_bert(**inputs)\n",
        "            vectors.append(outputs.last_hidden_state[0].mean(dim=0).cpu().numpy())\n",
        "\n",
        "vectors = np.vstack(vectors)\n",
        "\n",
        "\n",
        "with open('graph.json', 'r') as graph_file:\n",
        "  graph_file = json.load(graph_file)\n",
        "  edge_from = []\n",
        "  edge_to = []\n",
        "  for a, b in graph_file:\n",
        "    if a in arxiv_map and b in arxiv_map:\n",
        "      edge_from.append(arxiv_map[a])\n",
        "      edge_to.append(arxiv_map[b])\n",
        "\n",
        "edges = [edge_from, edge_to]\n",
        "\n",
        "\n",
        "data = Data(x=torch.tensor(vectors), y=torch.tensor(labels, dtype=float), edge_index=torch.LongTensor(edges))\n",
        "\n",
        "num_nodes = data.num_nodes\n",
        "train_size = int(0.8 * num_nodes)\n",
        "val_size = int(0.1 * num_nodes)\n",
        "\n",
        "perm = torch.randperm(num_nodes)\n",
        "\n",
        "data.train_mask = torch.zeros(num_nodes, dtype=bool)\n",
        "data.val_mask = torch.zeros(num_nodes, dtype=bool)\n",
        "data.test_mask = torch.zeros(num_nodes, dtype=bool)\n",
        "\n",
        "data.train_mask[perm[:train_size]] = True\n",
        "data.val_mask[perm[train_size:train_size+val_size]] = True\n",
        "data.test_mask[perm[train_size+val_size:]] = True\n",
        "\n",
        "\n"
      ]
    },
    {
      "cell_type": "code",
      "execution_count": 9,
      "metadata": {
        "colab": {
          "base_uri": "https://localhost:8080/",
          "height": 466
        },
        "id": "rCusZlalM98j",
        "outputId": "383cba22-ed14-4b57-fdee-10103c1a643f"
      },
      "outputs": [
        {
          "name": "stderr",
          "output_type": "stream",
          "text": [
            "100%|██████████| 1000/1000 [00:08<00:00, 111.78it/s]\n"
          ]
        },
        {
          "data": {
            "image/png": "[encoded data removed]",
            "text/plain": [
              "<Figure size 640x480 with 1 Axes>"
            ]
          },
          "metadata": {},
          "output_type": "display_data"
        },
        {
          "name": "stdout",
          "output_type": "stream",
          "text": [
            "0.04264705882352941\n"
          ]
        }
      ],
      "source": [
        "from sklearn.metrics import f1_score, hamming_loss, jaccard_score\n",
        "\n",
        "\n",
        "\n",
        "class Net(torch.nn.Module):\n",
        "    def __init__(self, num_features, num_classes, task_list):\n",
        "        super(Net, self).__init__()\n",
        "        self.conv1 = GCNConv(num_features, 200)\n",
        "        self.conv2 = GCNConv(200, num_classes)\n",
        "        self.task_list = task_list\n",
        "\n",
        "    def forward(self, data):\n",
        "        x, edge_index = data.x, data.edge_index\n",
        "        x = self.conv1(x, edge_index)\n",
        "        x = F.relu(x)\n",
        "        x = F.dropout(x, training=self.training)\n",
        "        x = self.conv2(x, edge_index)\n",
        "        return x\n",
        "\n",
        "    def predict(self, data):\n",
        "        result = []\n",
        "        self.eval()\n",
        "        logits = self(data)\n",
        "        predicted = torch.greater(logits[0], 0.5).cpu()\n",
        "        for i, task in enumerate(self.task_list):\n",
        "          if predicted[i]:\n",
        "            result.append(task)\n",
        "        return result\n",
        "\n",
        "\n",
        "num_features = vectors.shape[1]\n",
        "num_classes = len(task_map)\n",
        "model = Net(num_features, num_classes, task_list).to(device)\n",
        "criterion = torch.nn.BCEWithLogitsLoss()\n",
        "optimizer = torch.optim.Adam(model.parameters(), lr=0.01, weight_decay=5e-4)\n",
        "\n",
        "data = data.to(device)\n",
        "data.y = data.y.float()\n",
        "train_loss = []\n",
        "val_loss = []\n",
        "for epoch in tqdm(range(1000)):\n",
        "  model.train()\n",
        "  optimizer.zero_grad()\n",
        "  out = model(data)\n",
        "  loss = criterion(out[data.train_mask], data.y[data.train_mask])\n",
        "  loss.backward()\n",
        "  optimizer.step()\n",
        "  train_loss.append(loss.detach().item())\n",
        "  model.eval()\n",
        "  out = model(data)\n",
        "  loss = criterion(out[data.val_mask], data.y[data.val_mask])\n",
        "  val_loss.append(loss.detach().item())\n",
        "\n",
        "model.eval()\n",
        "out = model(data)\n",
        "predicted = torch.greater(out[data.test_mask], 0.5).cpu()\n",
        "truth = data.y[data.test_mask].cpu()\n",
        "\n",
        "hamming = hamming_loss(predicted, truth)\n",
        "\n",
        "import matplotlib.pyplot as plt\n",
        "\n",
        "plt.figure()\n",
        "plt.plot(train_loss, label='train')\n",
        "plt.plot(val_loss, label='val')\n",
        "plt.legend()\n",
        "plt.show()\n",
        "\n",
        "print(hamming)\n",
        "\n",
        "torch.save(model, 'BGCN.pt')"
      ]
    }
  ],
  "metadata": {
    "accelerator": "GPU",
    "colab": {
      "gpuType": "T4",
      "provenance": []
    },
    "kernelspec": {
      "display_name": "Python 3",
      "name": "python3"
    },
    "language_info": {
      "name": "python",
      "version": "3.12.3"
    }
  },
  "nbformat": 4,
  "nbformat_minor": 0
}
